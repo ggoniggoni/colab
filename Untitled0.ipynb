{
  "nbformat": 4,
  "nbformat_minor": 0,
  "metadata": {
    "colab": {
      "name": "Untitled0.ipynb",
      "provenance": [],
      "authorship_tag": "ABX9TyPS/uR4P6azFgeBLFi9EiR5",
      "include_colab_link": true
    },
    "kernelspec": {
      "name": "python3",
      "display_name": "Python 3"
    },
    "language_info": {
      "name": "python"
    }
  },
  "cells": [
    {
      "cell_type": "markdown",
      "metadata": {
        "id": "view-in-github",
        "colab_type": "text"
      },
      "source": [
        "<a href=\"https://colab.research.google.com/github/ggoniggoni/colab/blob/main/Untitled0.ipynb\" target=\"_parent\"><img src=\"https://colab.research.google.com/assets/colab-badge.svg\" alt=\"Open In Colab\"/></a>"
      ]
    },
    {
      "cell_type": "code",
      "metadata": {
        "colab": {
          "base_uri": "https://localhost:8080/"
        },
        "id": "RgW6Ni4Yyo5Y",
        "outputId": "3a00b9c5-71bc-4c2b-e7b3-8282aadf6fd1"
      },
      "source": [
        "x=[-1.1,0.0,3.6,-7.2]\n",
        "len(x)\n"
      ],
      "execution_count": 4,
      "outputs": [
        {
          "output_type": "execute_result",
          "data": {
            "text/plain": [
              "4"
            ]
          },
          "metadata": {},
          "execution_count": 4
        }
      ]
    },
    {
      "cell_type": "code",
      "metadata": {
        "colab": {
          "base_uri": "https://localhost:8080/"
        },
        "id": "vEIKy7t_2fCQ",
        "outputId": "9cc81ee4-658d-4d9c-a202-4dd76acc7015"
      },
      "source": [
        "import numpy as np\n",
        "x = np.array([-1.1, 0.0, 3.6, -7.2])\n",
        "print(len(x))\n",
        "print(x[2])\n",
        "x[2]=20.0\n",
        "print(x)\n",
        "print(x[-2])"
      ],
      "execution_count": 10,
      "outputs": [
        {
          "output_type": "stream",
          "name": "stdout",
          "text": [
            "4\n",
            "3.6\n",
            "[-1.1  0.  20.  -7.2]\n",
            "-7.2\n"
          ]
        }
      ]
    },
    {
      "cell_type": "code",
      "metadata": {
        "colab": {
          "base_uri": "https://localhost:8080/"
        },
        "id": "itIAAOQ44BWr",
        "outputId": "7f663c9b-ada6-4ae3-b639-5bff85787ca8"
      },
      "source": [
        "x = np.array([-1.1, 0.0, 3.6, -7.2])\n",
        "y = x\n",
        "x[2] = 20.0\n",
        "print(y)\n"
      ],
      "execution_count": 11,
      "outputs": [
        {
          "output_type": "stream",
          "name": "stdout",
          "text": [
            "[-1.1  0.  20.  -7.2]\n"
          ]
        }
      ]
    },
    {
      "cell_type": "code",
      "metadata": {
        "colab": {
          "base_uri": "https://localhost:8080/"
        },
        "id": "r-mdjF7V4EUi",
        "outputId": "b5660e67-514a-48c2-caba-a1541db22cff"
      },
      "source": [
        "x = np.array([-1.1, 0.0, 3.6, -7.2])\n",
        "y = x.copy()\n",
        "x[2] = 20.0\n",
        "print(y)"
      ],
      "execution_count": 12,
      "outputs": [
        {
          "output_type": "stream",
          "name": "stdout",
          "text": [
            "[-1.1  0.   3.6 -7.2]\n"
          ]
        }
      ]
    },
    {
      "cell_type": "code",
      "metadata": {
        "colab": {
          "base_uri": "https://localhost:8080/"
        },
        "id": "U7dtshvZ4G5q",
        "outputId": "f362b469-38ac-4589-e672-fe88f9b72666"
      },
      "source": [
        "x = np.array([-1.1, 0.0, 3.6, -7.2])\n",
        "y = x.copy()\n",
        "x == y\n"
      ],
      "execution_count": 13,
      "outputs": [
        {
          "output_type": "execute_result",
          "data": {
            "text/plain": [
              "array([ True,  True,  True,  True])"
            ]
          },
          "metadata": {},
          "execution_count": 13
        }
      ]
    },
    {
      "cell_type": "code",
      "metadata": {
        "colab": {
          "base_uri": "https://localhost:8080/"
        },
        "id": "L698u1bA4k2O",
        "outputId": "3c67ed6f-15d6-4d00-fcac-788b4e3e5b31"
      },
      "source": [
        "x = np.array([-1.1, 0.0, 3.6, -7.2])\n",
        "y = x.copy()\n",
        "y[3] = 9.0\n",
        "x == y"
      ],
      "execution_count": 14,
      "outputs": [
        {
          "output_type": "execute_result",
          "data": {
            "text/plain": [
              "array([ True,  True,  True, False])"
            ]
          },
          "metadata": {},
          "execution_count": 14
        }
      ]
    },
    {
      "cell_type": "code",
      "metadata": {
        "colab": {
          "base_uri": "https://localhost:8080/"
        },
        "id": "Gm7c7-FN5S0b",
        "outputId": "373ac238-2575-4b1d-c792-92f61eee23d6"
      },
      "source": [
        "x = 2.4\n",
        "y = [2.4]\n",
        "x == y"
      ],
      "execution_count": 15,
      "outputs": [
        {
          "output_type": "execute_result",
          "data": {
            "text/plain": [
              "False"
            ]
          },
          "metadata": {},
          "execution_count": 15
        }
      ]
    },
    {
      "cell_type": "code",
      "metadata": {
        "colab": {
          "base_uri": "https://localhost:8080/"
        },
        "id": "VX6QRXsM5Tmr",
        "outputId": "0598835a-729f-4ab2-d3fb-929f16e79e08"
      },
      "source": [
        "x = 2.4\n",
        "y = np.array([2.4])\n",
        "x == y"
      ],
      "execution_count": 16,
      "outputs": [
        {
          "output_type": "execute_result",
          "data": {
            "text/plain": [
              "array([ True])"
            ]
          },
          "metadata": {},
          "execution_count": 16
        }
      ]
    },
    {
      "cell_type": "code",
      "metadata": {
        "colab": {
          "base_uri": "https://localhost:8080/"
        },
        "id": "Wpu4W57254zU",
        "outputId": "2097efee-958c-4463-dbcf-7f906e5c5f98"
      },
      "source": [
        "x = np.array([1, -2])\n",
        "y = np.array([1,1,0])\n",
        "z = np.concatenate((x,y))\n",
        "print(z)"
      ],
      "execution_count": 17,
      "outputs": [
        {
          "output_type": "stream",
          "name": "stdout",
          "text": [
            "[ 1 -2  1  1  0]\n"
          ]
        }
      ]
    },
    {
      "cell_type": "code",
      "metadata": {
        "colab": {
          "base_uri": "https://localhost:8080/"
        },
        "id": "SCpHEFW16xjq",
        "outputId": "78cda9c8-406d-495f-b96e-12e616db0b38"
      },
      "source": [
        "x = np.array([1,8,3,2,1,9,7])\n",
        "y = x[1:4]\n",
        "print(y)"
      ],
      "execution_count": 19,
      "outputs": [
        {
          "output_type": "stream",
          "name": "stdout",
          "text": [
            "[8 3 2 1 9]\n"
          ]
        }
      ]
    },
    {
      "cell_type": "code",
      "metadata": {
        "colab": {
          "base_uri": "https://localhost:8080/"
        },
        "id": "jdpcbNFB7IEt",
        "outputId": "97123840-d24a-4d9a-dc34-73e27b692fd3"
      },
      "source": [
        "x[3:6]=[100,200,300]\n",
        "print(x)"
      ],
      "execution_count": 21,
      "outputs": [
        {
          "output_type": "stream",
          "name": "stdout",
          "text": [
            "[  1   8   3 100 200 300   7]\n"
          ]
        }
      ]
    },
    {
      "cell_type": "code",
      "metadata": {
        "colab": {
          "base_uri": "https://localhost:8080/"
        },
        "id": "b66y1GDR7g4t",
        "outputId": "53ef2c87-4d93-4fdc-b155-ca725c7eac0d"
      },
      "source": [
        "x=np.array([1,8,3,2,1,9,7])\n",
        "print(x[2:])\n",
        "print(x[:-1])\n",
        "print(x[:])\n",
        "print(x[::-1])"
      ],
      "execution_count": 23,
      "outputs": [
        {
          "output_type": "stream",
          "name": "stdout",
          "text": [
            "[3 2 1 9 7]\n",
            "[1 8 3 2 1 9]\n",
            "[1 8 3 2 1 9 7]\n",
            "[7 9 1 2 3 8 1]\n"
          ]
        }
      ]
    },
    {
      "cell_type": "code",
      "metadata": {
        "colab": {
          "base_uri": "https://localhost:8080/"
        },
        "id": "LSAW374S9Gae",
        "outputId": "72a858a0-acd7-45f5-b13c-01f2199dc250"
      },
      "source": [
        "x = np.array([1,8,3,2,1,9,7])\n",
        "d = x[1:] - x[:-1]\n",
        "print(x[1:])\n",
        "print(x[:-1])\n",
        "print(d)\n"
      ],
      "execution_count": 25,
      "outputs": [
        {
          "output_type": "stream",
          "name": "stdout",
          "text": [
            "[8 3 2 1 9 7]\n",
            "[1 8 3 2 1 9]\n",
            "[ 7 -5 -1 -1  8 -2]\n"
          ]
        }
      ]
    },
    {
      "cell_type": "code",
      "metadata": {
        "colab": {
          "base_uri": "https://localhost:8080/"
        },
        "id": "OqRnErqj9_h1",
        "outputId": "ad0c204f-87bf-476a-aced-0715afd86083"
      },
      "source": [
        "np.zeros(3)\n"
      ],
      "execution_count": 26,
      "outputs": [
        {
          "output_type": "execute_result",
          "data": {
            "text/plain": [
              "array([0., 0., 0.])"
            ]
          },
          "metadata": {},
          "execution_count": 26
        }
      ]
    },
    {
      "cell_type": "code",
      "metadata": {
        "colab": {
          "base_uri": "https://localhost:8080/"
        },
        "id": "KzKA3wRo-BKk",
        "outputId": "861c6af8-1fc4-47c3-f028-5bdb9b3edf2f"
      },
      "source": [
        "n = 4\n",
        "for i in range(0,n):\n",
        "  x = np.zeros(n)\n",
        "  x[i] = 1\n",
        "  print(x)"
      ],
      "execution_count": 29,
      "outputs": [
        {
          "output_type": "stream",
          "name": "stdout",
          "text": [
            "[1. 0. 0. 0.]\n",
            "[0. 1. 0. 0.]\n",
            "[0. 0. 1. 0.]\n",
            "[0. 0. 0. 1.]\n"
          ]
        }
      ]
    },
    {
      "cell_type": "code",
      "metadata": {
        "colab": {
          "base_uri": "https://localhost:8080/"
        },
        "id": "5lZ64_N--Yfc",
        "outputId": "3a2cb01f-563d-4a48-f74a-848fac84c2ed"
      },
      "source": [
        "np.ones(3)"
      ],
      "execution_count": 30,
      "outputs": [
        {
          "output_type": "execute_result",
          "data": {
            "text/plain": [
              "array([1., 1., 1.])"
            ]
          },
          "metadata": {},
          "execution_count": 30
        }
      ]
    },
    {
      "cell_type": "code",
      "metadata": {
        "colab": {
          "base_uri": "https://localhost:8080/"
        },
        "id": "mc-fKyN4-cZy",
        "outputId": "faaaa4f4-532e-4697-9f53-16aaf49633d2"
      },
      "source": [
        " np.random.random(2)"
      ],
      "execution_count": 31,
      "outputs": [
        {
          "output_type": "execute_result",
          "data": {
            "text/plain": [
              "array([0.27719626, 0.0793734 ])"
            ]
          },
          "metadata": {},
          "execution_count": 31
        }
      ]
    },
    {
      "cell_type": "code",
      "metadata": {
        "colab": {
          "base_uri": "https://localhost:8080/",
          "height": 265
        },
        "id": "Yylofv5m-87Q",
        "outputId": "db1552ef-ec55-4361-e87e-0443b6138d93"
      },
      "source": [
        "import matplotlib.pyplot as plt\n",
        "plt.ion()\n",
        "temps = [ 71, 71, 68, 69, 68, 69, 68, 74, 77, 82, 85, 86, 88, 86,\n",
        "85, 86, 84, 79, 77, 75, 73, 71, 70, 70, 69, 69, 69, 69, 67,\n",
        "68, 68, 73, 76, 77, 82, 84, 84, 81, 80, 78, 79, 78, 73, 72,\n",
        "70, 70, 68, 67 ]\n",
        "temps2=temps[::-1]\n",
        "plt.plot(temps2, '-bo')\n",
        "plt.savefig('temperature.pdf', format = 'pdf')\n",
        "plt.show()"
      ],
      "execution_count": 35,
      "outputs": [
        {
          "output_type": "display_data",
          "data": {
            "image/png": "[encoded data removed]",
            "text/plain": [
              "<Figure size 432x288 with 1 Axes>"
            ]
          },
          "metadata": {
            "needs_background": "light"
          }
        }
      ]
    },
    {
      "cell_type": "code",
      "metadata": {
        "colab": {
          "base_uri": "https://localhost:8080/"
        },
        "id": "dYc7VA3s_2t4",
        "outputId": "34a516cf-30c7-439e-b85b-ce65bf6ad9a0"
      },
      "source": [
        "x = np.array([1,2,3])\n",
        "y = np.array([100,200,300])\n",
        "print('Sum of arrays:', x+y)\n",
        "print('Difference of arrays:', x-y)\n",
        "print('Scalar multiple of arrays: ', 2.2+x)\n",
        "print('Scalar multiple of arrays: ', x/2.2)"
      ],
      "execution_count": 38,
      "outputs": [
        {
          "output_type": "stream",
          "name": "stdout",
          "text": [
            "Sum of arrays: [101 202 303]\n",
            "Difference of arrays: [ -99 -198 -297]\n",
            "Scalar multiple of arrays:  [3.2 4.2 5.2]\n",
            "Scalar multiple of arrays:  [0.45454545 0.90909091 1.36363636]\n"
          ]
        }
      ]
    },
    {
      "cell_type": "code",
      "metadata": {
        "colab": {
          "base_uri": "https://localhost:8080/"
        },
        "id": "63C9SAlgA5KC",
        "outputId": "b7133aa8-984c-4c24-9552-ddc7fe137bb1"
      },
      "source": [
        "p_initial = np.array([22.15, 89.32, 56.77])\n",
        "p_final = np.array([23.05, 87.32, 53.13])\n",
        "r = (p_final - p_initial) / p_initial\n",
        "r\n"
      ],
      "execution_count": 39,
      "outputs": [
        {
          "output_type": "execute_result",
          "data": {
            "text/plain": [
              "array([ 0.04063205, -0.0223914 , -0.06411837])"
            ]
          },
          "metadata": {},
          "execution_count": 39
        }
      ]
    },
    {
      "cell_type": "code",
      "metadata": {
        "colab": {
          "base_uri": "https://localhost:8080/"
        },
        "id": "X7kpvtoxB-TF",
        "outputId": "7e42fbe4-f638-4160-ec7a-483299dccb45"
      },
      "source": [
        "a = np.array([1,2])\n",
        "b = np.array([3,4])\n",
        "alpha = -0.5\n",
        "beta = 1.5\n",
        "c = alpha*a + beta*b\n",
        "print(c)"
      ],
      "execution_count": 40,
      "outputs": [
        {
          "output_type": "stream",
          "name": "stdout",
          "text": [
            "[4. 5.]\n"
          ]
        }
      ]
    },
    {
      "cell_type": "code",
      "metadata": {
        "colab": {
          "base_uri": "https://localhost:8080/"
        },
        "id": "dyu1Rox2CGf4",
        "outputId": "e3e6ea8a-4023-4243-b66f-490afcf0356d"
      },
      "source": [
        "def lincomb(coef, vectors):\n",
        "  n = len(vectors[0])\n",
        "  comb = np.zeros(n)\n",
        "  for i in range(len(vectors)):\n",
        "    comb = comb + coef[i] * vectors[i]\n",
        "  return comb\n",
        "c=lincomb([alpha, beta], [a,b])\n",
        "print(c)"
      ],
      "execution_count": 43,
      "outputs": [
        {
          "output_type": "stream",
          "name": "stdout",
          "text": [
            "[4. 5.]\n"
          ]
        }
      ]
    }
  ]
}